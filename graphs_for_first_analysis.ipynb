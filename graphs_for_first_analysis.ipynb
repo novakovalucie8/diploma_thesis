{
 "cells": [
  {
   "cell_type": "code",
   "execution_count": null,
   "metadata": {},
   "outputs": [],
   "source": [
    "# Import necessary libraries\n",
    "import pandas as pd    # Data manipulation\n",
    "import numpy as np     # Numerical operations\n",
    "import glob            # File pattern matching\n",
    "import matplotlib.pyplot as plt  # Plotting library"
   ]
  },
  {
   "cell_type": "code",
   "execution_count": null,
   "metadata": {},
   "outputs": [],
   "source": [
    "#--- Data import ---\n",
    "# Define a generic path to your CSV file (update this to your actual file location)\n",
    "data_path = 'path/to/your/data.csv'\n",
    "# Read the CSV into a DataFrame\n",
    "data = pd.read_csv(data_path, delimiter=',')"
   ]
  },
  {
   "cell_type": "code",
   "execution_count": null,
   "metadata": {},
   "outputs": [],
   "source": [
    "#--- Data exploration ---\n",
    "# How many unique areas/polygons are in the dataset?\n",
    "print('Number of areas/polygons:', data['ID'].nunique())"
   ]
  },
  {
   "cell_type": "code",
   "execution_count": null,
   "metadata": {},
   "outputs": [],
   "source": [
    "#--- Date extraction and conversion ---\n",
    "# Extract the date substring from the 'system:index' column and convert to datetime\n",
    "data = data.assign(date=(data['system:index'].str[0:9]))\n",
    "data['date'] = pd.to_datetime(data['date'])\n",
    "\n",
    "data"
   ]
  },
  {
   "cell_type": "code",
   "execution_count": null,
   "metadata": {},
   "outputs": [],
   "source": [
    "#--- Data filtering ---\n",
    "# Filter out records with NDSI >= 0.4 to focus on clear conditions\n",
    "filtered_data = data[data['NDSI'] < 0.4]"
   ]
  },
  {
   "cell_type": "code",
   "execution_count": null,
   "metadata": {},
   "outputs": [],
   "source": [
    "#--- Split into per-ID tables ---\n",
    "tables = []\n",
    "# Loop over expected ID values, adjust upper bound as needed\n",
    "for i in range(1, 214):\n",
    "    table_name = f'K{i}'\n",
    "    df_subset = filtered_data[filtered_data['ID'] == table_name].copy()\n",
    "    if not df_subset.empty:\n",
    "        tables.append(df_subset)\n",
    "\n",
    "# Verify number of tables extracted\n",
    "print('Extracted tables count:', len(tables))\n",
    "\n",
    "#--- Re-parse dates for safety (if needed) ---\n",
    "for i, df in enumerate(tables):\n",
    "    # Check if 'system:index' exists in the DataFrame\n",
    "    if 'system:index' in df.columns:\n",
    "        try:\n",
    "            # Extract the first 8 characters from the 'system:index' column and convert to datetime\n",
    "            df.loc[:, 'date'] = pd.to_datetime(df['system:index'].str[:8], format='%Y%m%d')\n",
    "\n",
    "            # Optionally, print the first few rows to verify\n",
    "            print(f\"Table {i+1} with Date Column:\")\n",
    "            print(df.head())\n",
    "        \n",
    "        except Exception as e:\n",
    "            print(f\"Error processing date for Table {i+1}: {e}\")\n",
    "\n",
    "    else:\n",
    "        print(f\"Table {i+1} does not contain 'system:index' column.\")"
   ]
  },
  {
   "cell_type": "markdown",
   "metadata": {},
   "source": [
    "NDVI CHARTS FOR EACH PHASES"
   ]
  },
  {
   "cell_type": "code",
   "execution_count": null,
   "metadata": {},
   "outputs": [],
   "source": [
    "#--- Plotting NDVI time series by phase ---\n",
    "# Define the phases to visualize (1 through 7)\n",
    "phases_of_interest = range(1, 8)\n",
    "\n",
    "# Configure subplot layout: 2 columns, automatic rows based on number of phases\n",
    "ncols = 2\n",
    "nrows = (len(phases_of_interest) + ncols - 1) // ncols\n",
    "fig, axes = plt.subplots(nrows, ncols, figsize=(15, 5 * nrows), constrained_layout=True)\n",
    "axes = axes.flatten()  # Flatten to easily iterate\n",
    "\n",
    "# Loop through each phase and create a subplot\n",
    "for i, phase in enumerate(phases_of_interest):\n",
    "    all_series = []\n",
    "    \n",
    "    # Collect NDVI series for the current phase\n",
    "    for df in tables:\n",
    "        if isinstance(df, pd.DataFrame) and 'phase' in df.columns and 'NDVI' in df.columns:\n",
    "            phase_data = df[df['phase'] == phase]\n",
    "            if not phase_data.empty:\n",
    "                all_series.append(phase_data[['date', 'NDVI']])\n",
    "\n",
    "    # If there is data for this phase, plot it\n",
    "    ax = axes[i]\n",
    "    if all_series:\n",
    "        all_data = pd.concat(all_series)\n",
    "        mean_ndvi = all_data.groupby('date')['NDVI'].mean()\n",
    "\n",
    "        # Plot all individual NDVI series in gray\n",
    "        for series in all_series:\n",
    "            ax.plot(series['date'], series['NDVI'], color='gray', alpha=0.5, linewidth=0.8)\n",
    "\n",
    "        # Plot mean NDVI in color\n",
    "        ax.plot(mean_ndvi.index, mean_ndvi.values, color='blue', linestyle='-', linewidth=2, label='Mean NDVI')\n",
    "\n",
    "    # Labels and formatting\n",
    "    ax.set_title(f'NDVI - Phase {phase}')\n",
    "    ax.set_xlabel('Date')\n",
    "    ax.set_ylabel('NDVI')\n",
    "    ax.tick_params(axis='x', rotation=45)\n",
    "    ax.set_ylim(0, 1)\n",
    "    ax.legend()\n",
    "    ax.grid(True, linestyle='--', alpha=0.6)\n",
    "\n",
    "# Hide any unused subplots\n",
    "for j in range(len(phases_of_interest), len(axes)):\n",
    "    axes[j].axis('off')\n",
    "\n",
    "# Save the figure to a file   \n",
    "fig.savefig('NDVI_time_series.png', dpi=300, bbox_inches='tight')\n",
    "\n",
    "# Display the plots\n",
    "plt.show()"
   ]
  }
 ],
 "metadata": {
  "kernelspec": {
   "display_name": "Python 3",
   "language": "python",
   "name": "python3"
  },
  "language_info": {
   "codemirror_mode": {
    "name": "ipython",
    "version": 3
   },
   "file_extension": ".py",
   "mimetype": "text/x-python",
   "name": "python",
   "nbconvert_exporter": "python",
   "pygments_lexer": "ipython3",
   "version": "3.12.0"
  }
 },
 "nbformat": 4,
 "nbformat_minor": 2
}
